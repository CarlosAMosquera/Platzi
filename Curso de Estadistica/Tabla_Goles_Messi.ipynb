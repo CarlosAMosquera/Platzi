{
 "cells": [
  {
   "cell_type": "code",
   "execution_count": 1,
   "metadata": {},
   "outputs": [],
   "source": [
    "%matplotlib inline\n",
    "import pandas as pd\n",
    "import matplotlib.pyplot as plt"
   ]
  },
  {
   "cell_type": "code",
   "execution_count": 2,
   "metadata": {},
   "outputs": [],
   "source": [
    "goles = pd.read_csv('./vol/golesMessi.csv')"
   ]
  },
  {
   "cell_type": "code",
   "execution_count": 4,
   "metadata": {},
   "outputs": [
    {
     "data": {
      "text/plain": [
       "<matplotlib.axes._subplots.AxesSubplot at 0x7ff3ffbe6f28>"
      ]
     },
     "execution_count": 4,
     "metadata": {},
     "output_type": "execute_result"
    },
    {
     "data": {
      "image/png": "[encoded data removed]",
      "text/plain": [
       "<matplotlib.figure.Figure at 0x7ff3ffbe65f8>"
      ]
     },
     "metadata": {},
     "output_type": "display_data"
    }
   ],
   "source": [
    "goles['Goles'].hist()"
   ]
  },
  {
   "cell_type": "code",
   "execution_count": 6,
   "metadata": {},
   "outputs": [],
   "source": [
    "goles_ni=pd.crosstab(index=goles['Goles'],columns='Frecuencia absoluta')\n",
    "goles_Ni=goles_ni.cumsum()\n",
    "goles_fr=goles_ni/goles.shape[0]\n",
    "goles_fra=goles_Ni/goles.shape[0]\n",
    "goles_frp=goles_fr*100\n",
    "goles_frap=goles_fra*100"
   ]
  },
  {
   "cell_type": "code",
   "execution_count": 7,
   "metadata": {},
   "outputs": [
    {
     "data": {
      "text/html": [
       "<div>\n",
       "<table border=\"1\" class=\"dataframe\">\n",
       "  <thead>\n",
       "    <tr style=\"text-align: right;\">\n",
       "      <th></th>\n",
       "      <th>Frecuencia absoluta</th>\n",
       "      <th>Frecuencia absoluta acumulada</th>\n",
       "      <th>Frecuencia relativa</th>\n",
       "      <th>Frecuencia relativa acumulada</th>\n",
       "      <th>Frecuencia relativa %</th>\n",
       "      <th>Frecuencia relativa acumulada %</th>\n",
       "    </tr>\n",
       "    <tr>\n",
       "      <th>Goles</th>\n",
       "      <th></th>\n",
       "      <th></th>\n",
       "      <th></th>\n",
       "      <th></th>\n",
       "      <th></th>\n",
       "      <th></th>\n",
       "    </tr>\n",
       "  </thead>\n",
       "  <tbody>\n",
       "    <tr>\n",
       "      <th>0</th>\n",
       "      <td>13</td>\n",
       "      <td>13</td>\n",
       "      <td>0.342105</td>\n",
       "      <td>0.342105</td>\n",
       "      <td>34.210526</td>\n",
       "      <td>34.210526</td>\n",
       "    </tr>\n",
       "    <tr>\n",
       "      <th>1</th>\n",
       "      <td>10</td>\n",
       "      <td>23</td>\n",
       "      <td>0.263158</td>\n",
       "      <td>0.605263</td>\n",
       "      <td>26.315789</td>\n",
       "      <td>60.526316</td>\n",
       "    </tr>\n",
       "    <tr>\n",
       "      <th>2</th>\n",
       "      <td>7</td>\n",
       "      <td>30</td>\n",
       "      <td>0.184211</td>\n",
       "      <td>0.789474</td>\n",
       "      <td>18.421053</td>\n",
       "      <td>78.947368</td>\n",
       "    </tr>\n",
       "    <tr>\n",
       "      <th>3</th>\n",
       "      <td>6</td>\n",
       "      <td>36</td>\n",
       "      <td>0.157895</td>\n",
       "      <td>0.947368</td>\n",
       "      <td>15.789474</td>\n",
       "      <td>94.736842</td>\n",
       "    </tr>\n",
       "    <tr>\n",
       "      <th>4</th>\n",
       "      <td>2</td>\n",
       "      <td>38</td>\n",
       "      <td>0.052632</td>\n",
       "      <td>1.000000</td>\n",
       "      <td>5.263158</td>\n",
       "      <td>100.000000</td>\n",
       "    </tr>\n",
       "  </tbody>\n",
       "</table>\n",
       "</div>"
      ],
      "text/plain": [
       "       Frecuencia absoluta  Frecuencia absoluta acumulada  \\\n",
       "Goles                                                       \n",
       "0                       13                             13   \n",
       "1                       10                             23   \n",
       "2                        7                             30   \n",
       "3                        6                             36   \n",
       "4                        2                             38   \n",
       "\n",
       "       Frecuencia relativa  Frecuencia relativa acumulada  \\\n",
       "Goles                                                       \n",
       "0                 0.342105                       0.342105   \n",
       "1                 0.263158                       0.605263   \n",
       "2                 0.184211                       0.789474   \n",
       "3                 0.157895                       0.947368   \n",
       "4                 0.052632                       1.000000   \n",
       "\n",
       "       Frecuencia relativa %  Frecuencia relativa acumulada %  \n",
       "Goles                                                          \n",
       "0                  34.210526                        34.210526  \n",
       "1                  26.315789                        60.526316  \n",
       "2                  18.421053                        78.947368  \n",
       "3                  15.789474                        94.736842  \n",
       "4                   5.263158                       100.000000  "
      ]
     },
     "execution_count": 7,
     "metadata": {},
     "output_type": "execute_result"
    }
   ],
   "source": [
    "goles_table=pd.concat([goles_ni,goles_Ni,goles_fr,goles_fra,goles_frp,goles_frap], axis=1)\n",
    "goles_table.columns=['Frecuencia absoluta','Frecuencia absoluta acumulada','Frecuencia relativa','Frecuencia relativa acumulada','Frecuencia relativa %','Frecuencia relativa acumulada %']\n",
    "goles_table"
   ]
  },
  {
   "cell_type": "code",
   "execution_count": 8,
   "metadata": {},
   "outputs": [
    {
     "data": {
      "image/png": "[encoded data removed]",
      "text/plain": [
       "<matplotlib.figure.Figure at 0x7ff3ffbe62b0>"
      ]
     },
     "metadata": {},
     "output_type": "display_data"
    }
   ],
   "source": [
    "goles_table['Frecuencia absoluta'].plot(kind='bar');"
   ]
  },
  {
   "cell_type": "code",
   "execution_count": 9,
   "metadata": {},
   "outputs": [
    {
     "data": {
      "image/png": "[encoded data removed]",
      "text/plain": [
       "<matplotlib.figure.Figure at 0x7ff3fd900d68>"
      ]
     },
     "metadata": {},
     "output_type": "display_data"
    }
   ],
   "source": [
    "goles_table['Frecuencia relativa acumulada %'].plot(kind='bar');"
   ]
  }
 ],
 "metadata": {
  "kernelspec": {
   "display_name": "Python 3",
   "language": "python",
   "name": "python3"
  },
  "language_info": {
   "codemirror_mode": {
    "name": "ipython",
    "version": 3
   },
   "file_extension": ".py",
   "mimetype": "text/x-python",
   "name": "python",
   "nbconvert_exporter": "python",
   "pygments_lexer": "ipython3",
   "version": "3.5.2"
  }
 },
 "nbformat": 4,
 "nbformat_minor": 2
}
